{
 "cells": [
  {
   "cell_type": "code",
   "execution_count": 1,
   "source": [
    "import sklearn\n",
    "import numpy\n",
    "import json\n",
    "import hashlib\n",
    "import operator\n",
    "\n",
    "from typing import List, Optional, Dict"
   ],
   "outputs": [],
   "metadata": {}
  },
  {
   "cell_type": "markdown",
   "source": [
    "# Experiment: Use Statistical Method detect \"Bad Structure\""
   ],
   "metadata": {}
  },
  {
   "cell_type": "code",
   "execution_count": 2,
   "source": [
    "with open(\"./states.json\", \"r\") as f: all_data = json.load(f)"
   ],
   "outputs": [],
   "metadata": {}
  },
  {
   "cell_type": "markdown",
   "source": [
    "## Definition of \"Bad Structure\"\n",
    "\n",
    "If a structure exists in more than 10 consecutive states, we define such structure as a \"bad structure\" as it can't be resolved for a long time and will occupy position in 2048 board.\n",
    "\n",
    "Below defines some utility functions"
   ],
   "metadata": {}
  },
  {
   "cell_type": "code",
   "execution_count": 3,
   "source": [
    "def state_and(s1, s2):\n",
    "    # For simplicity, suppose both s1 and s2 are rectangular array\n",
    "    assert len(s1) == len(s2) and len(s1[0]) == len(s2[0])\n",
    "    # Create an empty 2D array with same shape as s1\n",
    "    result = [[0] * len(s1[0]) for _ in range(len(s1))]\n",
    "    for row in range(len(s1)):\n",
    "        for col in range(len(s1[0])):\n",
    "            if s1[row][col] == s2[row][col]: result[row][col] = s1[row][col]\n",
    "    return result\n",
    "\n",
    "def detect_bad_struct(s_list: List[List[List]]):\n",
    "    s_0 = s_list[0]\n",
    "    for s in s_list: s_0 = state_and(s_0, s)\n",
    "    return s_0\n",
    "\n",
    "def is_valid_bad_struct(badStruct):\n",
    "    cond1 = sum([sum(row) for row in badStruct]) > 32\n",
    "    flag = False\n",
    "    for row in range(len(badStruct) - 1):\n",
    "        for col in range(len(badStruct[0]) - 1):\n",
    "            if badStruct[row][col] != 0 and badStruct[row + 1][col] != 0 and \\\n",
    "                badStruct[row][col + 1] != 0 and badStruct[row + 1][col + 1] != 0:\n",
    "                flag = True\n",
    "    return cond1 and flag\n",
    "\n",
    "def combine_dicts(dict1, dict2):\n",
    "    for key in dict2:\n",
    "        if key in dict1: dict1[key] = dict2[key] + dict1[key]\n",
    "        else: dict1[key] = dict2[key]\n",
    "    return dict1\n",
    "\n",
    "def extract_bad_structs(sList: List[List[List]], sequenceL: int=10):\n",
    "    badStructs = dict()\n",
    "    for i in range(0, len(sList) - sequenceL):\n",
    "        badStruct = detect_bad_struct(sList[i:i + sequenceL])\n",
    "        if is_valid_bad_struct(badStruct):\n",
    "            badStructs[str(badStruct)] = 1\n",
    "    return badStructs\n"
   ],
   "outputs": [],
   "metadata": {}
  },
  {
   "cell_type": "markdown",
   "source": [
    "## Detect Bad Structures in the Recorded State\n",
    "\n",
    "Use `detect_bad_struct`, we can extract bad structure for all recorded state sequence."
   ],
   "metadata": {}
  },
  {
   "cell_type": "code",
   "execution_count": 4,
   "source": [
    "bad_struct_count = dict()\n",
    "for i, k in enumerate(list(all_data.keys())[:]):\n",
    "    bad_struct_count = combine_dicts(bad_struct_count, extract_bad_structs(all_data[k], sequenceL=20))"
   ],
   "outputs": [],
   "metadata": {}
  },
  {
   "cell_type": "code",
   "execution_count": 5,
   "source": [
    "bad_struct_list = [(bad_struct_count[k], k) for k in bad_struct_count]\n",
    "bad_struct_list.sort(reverse=True)\n",
    "bad_structs = [k for k in bad_struct_count]\n",
    "with open(\"./bad_structs.json\", \"w\") as f:\n",
    "    json.dump(bad_structs, f)"
   ],
   "outputs": [],
   "metadata": {}
  }
 ],
 "metadata": {
  "orig_nbformat": 4,
  "language_info": {
   "name": "python",
   "version": "3.8.11",
   "mimetype": "text/x-python",
   "codemirror_mode": {
    "name": "ipython",
    "version": 3
   },
   "pygments_lexer": "ipython3",
   "nbconvert_exporter": "python",
   "file_extension": ".py"
  },
  "kernelspec": {
   "name": "python3",
   "display_name": "Python 3.8.11 64-bit ('sklearn': conda)"
  },
  "interpreter": {
   "hash": "1c85cd32ca8bf0b51b5e08178daa8d9e95e3a83444eb071eb13d74e7a66bd71a"
  }
 },
 "nbformat": 4,
 "nbformat_minor": 2
}